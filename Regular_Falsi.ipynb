{
  "nbformat": 4,
  "nbformat_minor": 0,
  "metadata": {
    "colab": {
      "name": "Regular_Falsi.ipynb",
      "provenance": [],
      "authorship_tag": "ABX9TyML2m39dceQw1RRoQ1sRa75",
      "include_colab_link": true
    },
    "kernelspec": {
      "name": "python3",
      "display_name": "Python 3"
    },
    "language_info": {
      "name": "python"
    }
  },
  "cells": [
    {
      "cell_type": "markdown",
      "metadata": {
        "id": "view-in-github",
        "colab_type": "text"
      },
      "source": [
        "<a href=\"https://colab.research.google.com/github/Sudipta-Trisha/Colab-notebook/blob/main/Regular_Falsi.ipynb\" target=\"_parent\"><img src=\"https://colab.research.google.com/assets/colab-badge.svg\" alt=\"Open In Colab\"/></a>"
      ]
    },
    {
      "cell_type": "code",
      "execution_count": null,
      "metadata": {
        "id": "ouUhq3Wvf-sA",
        "colab": {
          "base_uri": "https://localhost:8080/",
          "height": 437
        },
        "outputId": "07c8fc7c-cf0f-45d0-c8d8-9b0611b40ab9"
      },
      "outputs": [
        {
          "output_type": "stream",
          "name": "stdout",
          "text": [
            "Enter First Approximation Root: 0\n",
            "Enter Second Approximation Root: 1\n",
            "\n",
            "\n",
            "Iteration =  1 \t\t\ta = 0.000 \t\tb = 1.000 \t\tc = 0.250 \t\tf(c) = -0.234\n",
            "Iteration =  2 \t\t\ta = 0.000 \t\tb = 0.250 \t\tc = 0.203 \t\tf(c) = -0.004\n",
            "\n",
            "Required Root is : 0.202\n",
            "\n"
          ]
        },
        {
          "output_type": "display_data",
          "data": {
            "image/png": "[encoded data removed]",
            "text/plain": [
              "<Figure size 432x288 with 1 Axes>"
            ]
          },
          "metadata": {
            "needs_background": "light"
          }
        }
      ],
      "source": [
        "from pylab import *\n",
        "\n",
        "def f(x):\n",
        "  y = x**3 - 5*x + 1\n",
        "  return y\n",
        "\n",
        "def regular_falsi(a,b):\n",
        "\n",
        "  i = 1\n",
        "  c = float((a*f(b) - b*f(a)) / (f(b)-f(a)))\n",
        "  x = linspace(-3,3,100)\n",
        "\n",
        "  while abs(f(c)) > 0.001:\n",
        "    print(\"Iteration = \",i, \"\\t\\t\\ta = %0.3f\" %a, \"\\t\\tb = %0.3f\" %b, \"\\t\\tc = %0.3f\" %c, \"\\t\\tf(c) = %0.3f\" %f(c))\n",
        "\n",
        "    if(f(a) * f(c)) < 0:\n",
        "      b = c\n",
        "    else:\n",
        "      a = c\n",
        "\n",
        "    i = i + 1\n",
        "    c = float((a*f(b) - b*f(a)) / (f(b)-f(a)))\n",
        "\n",
        "  print('\\nRequired Root is : %0.3f\\n' % c)\n",
        "\n",
        "  plot(x,f(x))\n",
        "  xlabel = ('x values')\n",
        "  ylabel = ('y values')\n",
        "  title('Graph of y = x**3 - 5*x + 1')\n",
        "  grid(True)\n",
        "  show()\n",
        "\n",
        "a = input(\"Enter First Approximation Root: \")\n",
        "b = input(\"Enter Second Approximation Root: \")\n",
        "print('\\n')\n",
        "\n",
        "a = float(a)\n",
        "b = float(b)\n",
        "\n",
        "if f(a) * f(b) > 0.0:\n",
        "    print('Given guess values do not bracket the root.')\n",
        "    print('Try Again with different guess values.')\n",
        "else:\n",
        "    regular_falsi(a,b)"
      ]
    }
  ]
}