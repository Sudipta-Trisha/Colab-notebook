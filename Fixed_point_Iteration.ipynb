{
  "nbformat": 4,
  "nbformat_minor": 0,
  "metadata": {
    "colab": {
      "name": "Fixed_point_Iteration.ipynb",
      "provenance": [],
      "authorship_tag": "ABX9TyOwL2ss0SV6IrFNcpeDM4Cc",
      "include_colab_link": true
    },
    "kernelspec": {
      "name": "python3",
      "display_name": "Python 3"
    },
    "language_info": {
      "name": "python"
    }
  },
  "cells": [
    {
      "cell_type": "markdown",
      "metadata": {
        "id": "view-in-github",
        "colab_type": "text"
      },
      "source": [
        "<a href=\"https://colab.research.google.com/github/Sudipta-Trisha/Colab-notebook/blob/main/Fixed_point_Iteration.ipynb\" target=\"_parent\"><img src=\"https://colab.research.google.com/assets/colab-badge.svg\" alt=\"Open In Colab\"/></a>"
      ]
    },
    {
      "cell_type": "code",
      "execution_count": 5,
      "metadata": {
        "colab": {
          "base_uri": "https://localhost:8080/",
          "height": 455
        },
        "id": "e6gqYwXEk6bP",
        "outputId": "951e61df-3d18-4974-ed91-0c96500a632b"
      },
      "outputs": [
        {
          "output_type": "stream",
          "name": "stdout",
          "text": [
            "Enter guess: 2\n",
            "Iteration =  1 \t\tx1 = 1.0000 \t\t\tf(x1) = -3.0000\n",
            "Iteration =  2 \t\tx1 = 0.2500 \t\t\tf(x1) = -0.2344\n",
            "Iteration =  3 \t\tx1 = 0.2025 \t\t\tf(x1) = -0.0044\n",
            "Iteration =  4 \t\tx1 = 0.2017 \t\t\tf(x1) = -0.0001\n",
            "Iteration =  5 \t\tx1 = 0.2016 \t\t\tf(x1) = -0.0000\n",
            "Iteration =  6 \t\tx1 = 0.2016 \t\t\tf(x1) = -0.0000\n",
            "\n",
            "Required root is = 0.202\n",
            "\n"
          ]
        },
        {
          "output_type": "display_data",
          "data": {
            "image/png": "[encoded data removed]",
            "text/plain": [
              "<Figure size 432x288 with 1 Axes>"
            ]
          },
          "metadata": {
            "needs_background": "light"
          }
        }
      ],
      "source": [
        "import matplotlib.pyplot as plt\n",
        "import numpy as np\n",
        "\n",
        "def f(x):\n",
        "  return x**3 - 5*x + 1\n",
        "\n",
        "def g(x):\n",
        "  return -1/(x*x - 5)\n",
        "\n",
        "def fixed_point(x0):\n",
        "  i = 1\n",
        "  condition = True\n",
        "\n",
        "  while condition:\n",
        "    x1 = g(x0)\n",
        "    print(\"Iteration = \", i , \"\\t\\tx1 = %0.4f\" %x1 , \"\\t\\t\\tf(x1) = %0.4f\" %f(x1))\n",
        "    x0 = x1\n",
        "\n",
        "    if abs(f(x1)) > 0.000001:\n",
        "        i = i + 1\n",
        "        condition = True\n",
        "    else:\n",
        "        condition = False\n",
        "\n",
        "  print(\"\\nRequired root is = %0.3f\\n\" %x1)\n",
        "\n",
        "  root = float(x1)\n",
        "  x1 = np.linspace(-3,3,100)\n",
        "  y = f(x1)\n",
        "  plt.plot(x1,y)\n",
        "  plt.plot(root,0, marker = 'o', color='red')\n",
        "  plt.title('Graph of y = x**3 - 5*x + 1')\n",
        "  plt.grid(True)\n",
        "\n",
        "\n",
        "\n",
        "x0 = float(input(\"Enter guess: \"))\n",
        "fixed_point(x0)\n"
      ]
    }
  ]
}