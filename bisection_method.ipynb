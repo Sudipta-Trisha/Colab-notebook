{
  "nbformat": 4,
  "nbformat_minor": 0,
  "metadata": {
    "colab": {
      "name": "bisection_method.ipynb",
      "provenance": [],
      "authorship_tag": "ABX9TyNjdAqDwifju4CntupAaDqp",
      "include_colab_link": true
    },
    "kernelspec": {
      "name": "python3",
      "display_name": "Python 3"
    },
    "language_info": {
      "name": "python"
    }
  },
  "cells": [
    {
      "cell_type": "markdown",
      "metadata": {
        "id": "view-in-github",
        "colab_type": "text"
      },
      "source": [
        "<a href=\"https://colab.research.google.com/github/Sudipta-Trisha/Colab-notebook/blob/main/bisection_method.ipynb\" target=\"_parent\"><img src=\"https://colab.research.google.com/assets/colab-badge.svg\" alt=\"Open In Colab\"/></a>"
      ]
    },
    {
      "cell_type": "code",
      "execution_count": null,
      "metadata": {
        "colab": {
          "base_uri": "https://localhost:8080/",
          "height": 576
        },
        "id": "ebyoEi5R6wai",
        "outputId": "6b1b7c40-fe58-40fc-9afb-5535a3e58208"
      },
      "outputs": [
        {
          "output_type": "stream",
          "name": "stdout",
          "text": [
            "Enter First Approximation Root: 1\n",
            "Enter Second Approximation Root: 0\n",
            "\n",
            "\n",
            "Iteration =  1 \t\t\ta = 1.000 \t\tb = 0.000 \t\tc = 0.500 \t\tf(c) = -1.375\n",
            "Iteration =  2 \t\t\ta = 0.500 \t\tb = 0.000 \t\tc = 0.250 \t\tf(c) = -0.234\n",
            "Iteration =  3 \t\t\ta = 0.250 \t\tb = 0.000 \t\tc = 0.125 \t\tf(c) = 0.377\n",
            "Iteration =  4 \t\t\ta = 0.250 \t\tb = 0.125 \t\tc = 0.188 \t\tf(c) = 0.069\n",
            "Iteration =  5 \t\t\ta = 0.250 \t\tb = 0.188 \t\tc = 0.219 \t\tf(c) = -0.083\n",
            "Iteration =  6 \t\t\ta = 0.219 \t\tb = 0.188 \t\tc = 0.203 \t\tf(c) = -0.007\n",
            "Iteration =  7 \t\t\ta = 0.203 \t\tb = 0.188 \t\tc = 0.195 \t\tf(c) = 0.031\n",
            "Iteration =  8 \t\t\ta = 0.203 \t\tb = 0.195 \t\tc = 0.199 \t\tf(c) = 0.012\n",
            "Iteration =  9 \t\t\ta = 0.203 \t\tb = 0.199 \t\tc = 0.201 \t\tf(c) = 0.002\n",
            "Iteration =  10 \t\t\ta = 0.203 \t\tb = 0.201 \t\tc = 0.202 \t\tf(c) = -0.002\n",
            "\n",
            "Required Root is : 0.202\n",
            "\n"
          ]
        },
        {
          "output_type": "display_data",
          "data": {
            "image/png": "[encoded data removed]",
            "text/plain": [
              "<Figure size 432x288 with 1 Axes>"
            ]
          },
          "metadata": {
            "needs_background": "light"
          }
        }
      ],
      "source": [
        "from pylab import *\n",
        "\n",
        "def f(x):\n",
        "  y = x**3 - 5*x + 1\n",
        "  return y\n",
        "\n",
        "def bisection(a,b):\n",
        "\n",
        "  i = 1\n",
        "  c = float((a+b)/2)\n",
        "  x = linspace(-3,3,10)\n",
        "\n",
        "  while abs(f(c)) > 0.001:\n",
        "    print(\"Iteration = \",i, \"\\t\\t\\ta = %0.3f\" %a, \"\\t\\tb = %0.3f\" %b, \"\\t\\tc = %0.3f\" %c, \"\\t\\tf(c) = %0.3f\" %f(c))\n",
        "\n",
        "    if(f(a) * f(c)) < 0:\n",
        "      b = c\n",
        "    else:\n",
        "      a = c\n",
        "\n",
        "    i = i + 1\n",
        "    c = (a+b)/2\n",
        "\n",
        "  print('\\nRequired Root is : %0.3f\\n' % c)\n",
        "\n",
        "  plot(x,f(x))\n",
        "  xlabel = ('x values')\n",
        "  ylabel = ('y values')\n",
        "  title('Graph of y = x**3 - 5*x + 1')\n",
        "  grid(True)\n",
        "  show()\n",
        "\n",
        "a = input(\"Enter First Approximation Root: \")\n",
        "b = input(\"Enter Second Approximation Root: \")\n",
        "print('\\n')\n",
        "\n",
        "a = float(a)\n",
        "b = float(b)\n",
        "\n",
        "if f(a) * f(b) > 0.0:\n",
        "    print('Given guess values do not bracket the root.')\n",
        "    print('Try Again with different guess values.')\n",
        "else:\n",
        "    bisection(a,b)"
      ]
    }
  ]
}